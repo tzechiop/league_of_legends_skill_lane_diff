{
 "cells": [
  {
   "cell_type": "markdown",
   "metadata": {},
   "source": [
    "# Objective"
   ]
  },
  {
   "cell_type": "markdown",
   "metadata": {},
   "source": [
    "The project--named \"League of Legends Skill Lane Differential\"--aims to develop a statistical understanding of how various skill levels differentials across the lanes, for both teams, can affect each team's win rate."
   ]
  },
  {
   "cell_type": "markdown",
   "metadata": {},
   "source": [
    "\n",
    "# Mathematical Definitions"
   ]
  },
  {
   "cell_type": "markdown",
   "metadata": {},
   "source": [
    "## Skill Differential"
   ]
  },
  {
   "cell_type": "markdown",
   "metadata": {},
   "source": [
    "The skill level differential for a lane is defined as the win rate for each player in that lane based on characteristics for each of the players. Lanes can be top ($T$), jungle ($J$), middle ($M$), or bottom ($B$).\n",
    "\n",
    "The skill level differential is defined below as a function of player specific characteristics ($P_i$ for player i). Player specific characterisics could include MMR of player $i$, champion for player $i$, etc. Thus, $P_i$ consists of multiple fixed parameters.\n",
    "\n",
    "$$Sd_T(P_1,P_6) = p(winning|P_1, P_6)$$\n",
    "$$Sd_J(P_2,P_7) = p(winning|P_2, P_7)$$\n",
    "$$Sd_M(P_3,P_8) = p(winning|P_3, P_8)$$\n",
    "$$Sd_B(P_4,P_5,P_9,P_{10}) = p(winning|P_4,P_5,P_9,P_{10})$$\n",
    "\n",
    "Note that $Sd_T(P_1,P_6)$ is the win rate for player 1. Players 1 to 5 are on the Blue team (bottom left) while Players 6 to 10 are on the Red team (top right). Because the function recognizes which side each player is on, $Sd_l(P_i,P_j) \\neq Sd_l(P_j,P_i)$."
   ]
  },
  {
   "cell_type": "markdown",
   "metadata": {},
   "source": [
    "## Game Win Rate"
   ]
  },
  {
   "cell_type": "markdown",
   "metadata": {},
   "source": [
    "Because the objective of this study is to determine how skill differentials for each lane affect the overall win rate, a function for the win rate of the game is developed. As defined by the objective of the study, this is defined below.\n",
    "\n",
    "$$WR(Sd_T, Sd_J, Sd_M, Sd_B, G) = p(winning|Sd_T, Sd_J, Sd_M, Sd_B, G)$$\n",
    "\n",
    "$WR$ is the winrate for the Blue team.\n",
    "\n",
    "$G$ is defines the game characteristics, such as average MMR level, region, game type, etc. Similar to $P_i$, $G$ consists of multiple fixed parameters."
   ]
  },
  {
   "cell_type": "markdown",
   "metadata": {},
   "source": [
    "# Analysis Workflow"
   ]
  },
  {
   "cell_type": "markdown",
   "metadata": {},
   "source": [
    "Because the main objective of the project is to study how skill differentials for each lane affect the win rate of each team, this results in the evaluation of $WR$ with varying values for $Sd_T$, $Sd_J$, $Sd_M$, and $Sd_B$. The skill level differential variable ($Sd_l$) that results in the largest pertubation of $WR$ is determined to have the most effect on the win rate. Thus, the lane associated with that skill level differential variable is determined to have the most effect in the game. Note that this evaluation may change with varying values of $Sd_T$, $Sd_J$, $Sd_M$, $Sd_B$, and $G$."
   ]
  },
  {
   "cell_type": "code",
   "execution_count": null,
   "metadata": {},
   "outputs": [],
   "source": []
  }
 ],
 "metadata": {
  "kernelspec": {
   "display_name": "Python 3",
   "language": "python",
   "name": "python3"
  },
  "language_info": {
   "codemirror_mode": {
    "name": "ipython",
    "version": 3
   },
   "file_extension": ".py",
   "mimetype": "text/x-python",
   "name": "python",
   "nbconvert_exporter": "python",
   "pygments_lexer": "ipython3",
   "version": "3.7.3"
  }
 },
 "nbformat": 4,
 "nbformat_minor": 2
}
